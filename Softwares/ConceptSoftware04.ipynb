{
  "nbformat": 4,
  "nbformat_minor": 0,
  "metadata": {
    "colab": {
      "provenance": []
    },
    "kernelspec": {
      "name": "python3",
      "display_name": "Python 3"
    },
    "language_info": {
      "name": "python"
    }
  },
  "cells": [
    {
      "cell_type": "markdown",
      "source": [
        "## Software 04 Inputs from IP based camera and motion sensor"
      ],
      "metadata": {
        "id": "Xs8GQqggVRI1"
      }
    },
    {
      "cell_type": "markdown",
      "source": [
        "Certainly! Below is a program example in a Jupyter Notebook that simulates taking inputs from an IP-based camera and motion sensor, capturing an image when motion is detected, and recording the date and time:"
      ],
      "metadata": {
        "id": "p-tO3agFVUF9"
      }
    },
    {
      "cell_type": "code",
      "source": [
        "from datetime import datetime\n",
        "import cv2\n",
        "import ipywidgets as widgets\n",
        "from IPython.display import display, clear_output\n",
        "\n",
        "# Simulate input from the camera and motion sensor\n",
        "def simulate_camera_capture():\n",
        "    # In a real scenario, you would capture an image from the camera and detect motion.\n",
        "    # For the purpose of this example, we'll use a sample image and assume motion is detected.\n",
        "    image = cv2.imread(\"sample_car_image.jpg\")  # Replace with actual image path\n",
        "    motion_detected = True\n",
        "    return image, motion_detected\n",
        "\n",
        "# Function to display image and information\n",
        "def display_image(image, date_time):\n",
        "    plt.figure(figsize=(8, 6))\n",
        "    plt.imshow(cv2.cvtColor(image, cv2.COLOR_BGR2RGB))\n",
        "    plt.title(f\"Image taken on {date_time}\")\n",
        "    plt.axis('off')\n",
        "    plt.show()\n",
        "\n",
        "# Simulate motion sensor input\n",
        "def motion_detected_simulator(change):\n",
        "    if change['new']:\n",
        "        image, date_time = simulate_camera_capture()\n",
        "        display_image(image, date_time)\n",
        "\n",
        "# Create a motion sensor simulation widget\n",
        "motion_simulator = widgets.Checkbox(value=False, description=\"Motion Detected\")\n",
        "motion_simulator.observe(motion_detected_simulator, 'value')\n",
        "\n",
        "# Display the motion sensor simulator widget\n",
        "display(motion_simulator)"
      ],
      "metadata": {
        "id": "9T3VuEBCVXDt"
      },
      "execution_count": null,
      "outputs": []
    },
    {
      "cell_type": "markdown",
      "source": [
        "In this example, the `simulate_camera_capture` function simulates capturing an image from the camera and detecting motion. The `display_image` function displays the captured image along with the date and time. The `motion_detected_simulator` function is used to trigger the simulation when the motion sensor checkbox is checked."
      ],
      "metadata": {
        "id": "3NdypMUqVbo-"
      }
    },
    {
      "cell_type": "markdown",
      "source": [
        "Please note that this example uses the `ipywidgets` library for interactive elements in the Jupyter Notebook. You can install it using `pip install ipywidgets`. Additionally, make sure to replace `\"sample_car_image.jpg\"` with the actual path of the image captured by your IP-based camera."
      ],
      "metadata": {
        "id": "7XZaCCisVfQl"
      }
    },
    {
      "cell_type": "markdown",
      "source": [
        "Remember that this is a simplified simulation for demonstration purposes, and in a real scenario, you would need to integrate with actual camera APIs and motion detection systems."
      ],
      "metadata": {
        "id": "Q-A4YGb4VhTt"
      }
    }
  ]
}