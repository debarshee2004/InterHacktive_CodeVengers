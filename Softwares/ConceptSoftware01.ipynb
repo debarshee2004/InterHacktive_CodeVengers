{
  "nbformat": 4,
  "nbformat_minor": 0,
  "metadata": {
    "colab": {
      "provenance": []
    },
    "kernelspec": {
      "name": "python3",
      "display_name": "Python 3"
    },
    "language_info": {
      "name": "python"
    }
  },
  "cells": [
    {
      "cell_type": "markdown",
      "source": [
        "## Software 01 which contains the process of creating a hash and convertion it to QR Code."
      ],
      "metadata": {
        "id": "VeD_5BURPfNi"
      }
    },
    {
      "cell_type": "markdown",
      "source": [
        "Here's a step-by-step guide on how to create a Jupyter Notebook program that takes a number plate as input, creates a hash, and converts it into a QR code:"
      ],
      "metadata": {
        "id": "wxy2KmLaPloX"
      }
    },
    {
      "cell_type": "markdown",
      "source": [
        "1. Install required libraries:\n",
        "   Before you begin, make sure you have the required libraries installed. You can install them using the following commands:"
      ],
      "metadata": {
        "id": "uEYA1ZgsPqsO"
      }
    },
    {
      "cell_type": "code",
      "source": [
        "pip install hashlib qrcode"
      ],
      "metadata": {
        "id": "8R_BDxUSPtS2"
      },
      "execution_count": null,
      "outputs": []
    },
    {
      "cell_type": "markdown",
      "source": [
        "2. Import necessary modules:\n",
        "   In your Jupyter Notebook cell, import the required modules:"
      ],
      "metadata": {
        "id": "su4QDbEUPwwX"
      }
    },
    {
      "cell_type": "code",
      "source": [
        "import hashlib\n",
        "import qrcode"
      ],
      "metadata": {
        "id": "cNqCMauQP49Y"
      },
      "execution_count": null,
      "outputs": []
    },
    {
      "cell_type": "markdown",
      "source": [
        "3. Take input from the user:\n",
        "   Prompt the user to enter a number plate and store it in a variable:"
      ],
      "metadata": {
        "id": "fQgFkBn0P8-I"
      }
    },
    {
      "cell_type": "code",
      "source": [
        "number_plate = input(\"Enter the number plate: \")"
      ],
      "metadata": {
        "id": "vVq0MM1iQADg"
      },
      "execution_count": null,
      "outputs": []
    },
    {
      "cell_type": "markdown",
      "source": [
        "4. Create a hash:\n",
        "   Calculate the hash of the input number plate using a hash function (e.g., SHA-256):"
      ],
      "metadata": {
        "id": "eoQXHVmbQC6H"
      }
    },
    {
      "cell_type": "code",
      "source": [
        "hash_object = hashlib.sha256(number_plate.encode())\n",
        "hash_value = hash_object.hexdigest()"
      ],
      "metadata": {
        "id": "1H_jK9G7QHoe"
      },
      "execution_count": null,
      "outputs": []
    },
    {
      "cell_type": "markdown",
      "source": [
        "5. Generate a QR code:\n",
        "   Create a QR code containing the hash value using the `qrcode` library:"
      ],
      "metadata": {
        "id": "ca_jPm0CQLBW"
      }
    },
    {
      "cell_type": "code",
      "source": [
        "qr = qrcode.QRCode(\n",
        "    version=1,\n",
        "    error_correction=qrcode.constants.ERROR_CORRECT_L,\n",
        "    box_size=10,\n",
        "    border=4,\n",
        ")\n",
        "qr.add_data(hash_value)\n",
        "qr.make(fit=True)\n",
        "\n",
        "qr_code = qr.make_image(fill_color=\"black\", back_color=\"white\")"
      ],
      "metadata": {
        "id": "5HsmzyMZQPfY"
      },
      "execution_count": null,
      "outputs": []
    },
    {
      "cell_type": "markdown",
      "source": [
        "6. Display the QR code:\n",
        "   Display the generated QR code in the notebook:"
      ],
      "metadata": {
        "id": "7Tnhw_-tQS92"
      }
    },
    {
      "cell_type": "code",
      "source": [
        "display(qr_code)"
      ],
      "metadata": {
        "id": "nfx127LIQXEY"
      },
      "execution_count": null,
      "outputs": []
    },
    {
      "cell_type": "markdown",
      "source": [
        "Putting it all together, here's the complete code snippet:"
      ],
      "metadata": {
        "id": "5_e5uTBDQawA"
      }
    },
    {
      "cell_type": "code",
      "source": [
        "import hashlib\n",
        "import qrcode\n",
        "from IPython.display import display\n",
        "\n",
        "number_plate = input(\"Enter the number plate: \")\n",
        "\n",
        "hash_object = hashlib.sha256(number_plate.encode())\n",
        "hash_value = hash_object.hexdigest()\n",
        "\n",
        "qr = qrcode.QRCode(\n",
        "    version=1,\n",
        "    error_correction=qrcode.constants.ERROR_CORRECT_L,\n",
        "    box_size=10,\n",
        "    border=4,\n",
        ")\n",
        "qr.add_data(hash_value)\n",
        "qr.make(fit=True)\n",
        "\n",
        "qr_code = qr.make_image(fill_color=\"black\", back_color=\"white\")\n",
        "display(qr_code)"
      ],
      "metadata": {
        "id": "m6eXSv2hQg1S"
      },
      "execution_count": null,
      "outputs": []
    },
    {
      "cell_type": "markdown",
      "source": [
        "Just copy and paste this code into a Jupyter Notebook cell, run it, and you'll be prompted to enter a number plate. After entering the number plate, a QR code containing the hash of the number plate will be displayed."
      ],
      "metadata": {
        "id": "idGPq6F8Qhww"
      }
    }
  ]
}