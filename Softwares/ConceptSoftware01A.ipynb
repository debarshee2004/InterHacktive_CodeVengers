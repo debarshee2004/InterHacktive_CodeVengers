{
  "nbformat": 4,
  "nbformat_minor": 0,
  "metadata": {
    "colab": {
      "provenance": []
    },
    "kernelspec": {
      "name": "python3",
      "display_name": "Python 3"
    },
    "language_info": {
      "name": "python"
    }
  },
  "cells": [
    {
      "cell_type": "markdown",
      "source": [
        "## Software 01A \"upgraded version of Software 01\""
      ],
      "metadata": {
        "id": "ntrte7CYQ1uR"
      }
    },
    {
      "cell_type": "markdown",
      "source": [
        "Sure, here's an example Jupyter Notebook code that takes input for a number plate, date and time, and a hexadecimal parking place ID, creates a hash from the input, and generates a QR code from the hash using the `qrcode` library:"
      ],
      "metadata": {
        "id": "wedmGCMtQ5KP"
      }
    },
    {
      "cell_type": "code",
      "source": [
        "import hashlib\n",
        "import qrcode\n",
        "from datetime import datetime\n",
        "\n",
        "# Function to create a hash from input data\n",
        "def create_hash(number_plate, date_time, parking_id):\n",
        "    input_data = f\"{number_plate}{date_time}{parking_id}\"\n",
        "    hash_object = hashlib.sha256(input_data.encode())\n",
        "    return hash_object.hexdigest()\n",
        "\n",
        "# Input data\n",
        "number_plate = input(\"Enter the number plate: \")\n",
        "date_time = input(\"Enter the date and time (YYYY-MM-DD HH:MM:SS): \")\n",
        "parking_id = input(\"Enter the 10-digit hexadecimal parking place ID: \")\n",
        "\n",
        "# Create a hash from the input data\n",
        "hash_value = create_hash(number_plate, date_time, parking_id)\n",
        "\n",
        "# Generate a QR code from the hash\n",
        "qr = qrcode.QRCode(\n",
        "    version=1,\n",
        "    error_correction=qrcode.constants.ERROR_CORRECT_L,\n",
        "    box_size=10,\n",
        "    border=4,\n",
        ")\n",
        "qr.add_data(hash_value)\n",
        "qr.make(fit=True)\n",
        "\n",
        "# Create an image from the QR code\n",
        "qr_image = qr.make_image(fill_color=\"black\", back_color=\"white\")\n",
        "\n",
        "# Display the QR code\n",
        "display(qr_image)"
      ],
      "metadata": {
        "id": "EC0MhaVDQ923"
      },
      "execution_count": null,
      "outputs": []
    },
    {
      "cell_type": "markdown",
      "source": [
        "Make sure you have the `qrcode` library installed. If not, you can install it using the following command:"
      ],
      "metadata": {
        "id": "VRyJhOm-RC34"
      }
    },
    {
      "cell_type": "code",
      "source": [
        "pip install qrcode[pil]"
      ],
      "metadata": {
        "id": "HMaZG-y7RG74"
      },
      "execution_count": null,
      "outputs": []
    },
    {
      "cell_type": "markdown",
      "source": [
        "This code prompts the user for input, creates a hash from the input data, and then generates a QR code containing the hash. The QR code is displayed in the Jupyter Notebook output cell."
      ],
      "metadata": {
        "id": "FHr_JO-vRJgX"
      }
    }
  ]
}