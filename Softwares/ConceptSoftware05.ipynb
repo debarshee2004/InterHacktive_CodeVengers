{
  "nbformat": 4,
  "nbformat_minor": 0,
  "metadata": {
    "colab": {
      "provenance": []
    },
    "kernelspec": {
      "name": "python3",
      "display_name": "Python 3"
    },
    "language_info": {
      "name": "python"
    }
  },
  "cells": [
    {
      "cell_type": "markdown",
      "source": [
        "## Software 05 Data storage using pandas"
      ],
      "metadata": {
        "id": "xeI1mOW8byl8"
      }
    },
    {
      "cell_type": "markdown",
      "source": [
        "Here's a basic example of how you can create a program in a Jupyter Notebook using Python to store car parking information:"
      ],
      "metadata": {
        "id": "OUcEAPaLbzZz"
      }
    },
    {
      "cell_type": "code",
      "source": [
        "# Import necessary libraries\n",
        "import pandas as pd\n",
        "from datetime import datetime\n",
        "\n",
        "# Create an empty DataFrame to store parking information\n",
        "columns = ['CarNumber', 'EntryDate', 'EntryTime', 'ExitTime']\n",
        "parking_data = pd.DataFrame(columns=columns)\n",
        "\n",
        "# Function to record car entry\n",
        "def record_entry(car_number):\n",
        "    entry_date = datetime.now().date()\n",
        "    entry_time = datetime.now().time()\n",
        "    parking_data.loc[len(parking_data)] = [car_number, entry_date, entry_time, None]\n",
        "    print(f\"Car {car_number} entered the parking lot at {entry_time}\")\n",
        "\n",
        "# Function to record car exit\n",
        "def record_exit(car_number):\n",
        "    exit_time = datetime.now().time()\n",
        "    index = parking_data[parking_data['CarNumber'] == car_number].index[0]\n",
        "    parking_data.at[index, 'ExitTime'] = exit_time\n",
        "    print(f\"Car {car_number} exited the parking lot at {exit_time}\")\n",
        "\n",
        "# Simulate car entries and exits\n",
        "record_entry('ABC123')\n",
        "record_entry('XYZ789')\n",
        "\n",
        "record_exit('ABC123')\n",
        "\n",
        "# Display the parking data\n",
        "parking_data"
      ],
      "metadata": {
        "id": "tPPKZvMFcyFK"
      },
      "execution_count": null,
      "outputs": []
    },
    {
      "cell_type": "markdown",
      "source": [
        "In this example, we're using the `pandas` library to create a DataFrame to store the car parking information. We define two functions: `record_entry` and `record_exit` to simulate cars entering and exiting the parking lot. The parking data is stored in the `parking_data` DataFrame, and you can view it at the end of the program."
      ],
      "metadata": {
        "id": "xvKklj0kc1lq"
      }
    },
    {
      "cell_type": "markdown",
      "source": [
        "Remember that this is a basic example, and in a real-world scenario, you might want to incorporate error handling, data validation, and possibly even persist the data to a file or a database for long-term storage."
      ],
      "metadata": {
        "id": "OGaaZHXcc440"
      }
    }
  ]
}