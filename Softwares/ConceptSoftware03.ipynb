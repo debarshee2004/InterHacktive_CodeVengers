{
  "nbformat": 4,
  "nbformat_minor": 0,
  "metadata": {
    "colab": {
      "provenance": []
    },
    "kernelspec": {
      "name": "python3",
      "display_name": "Python 3"
    },
    "language_info": {
      "name": "python"
    }
  },
  "cells": [
    {
      "cell_type": "markdown",
      "source": [
        "## Software 03 Car Number Plate Detector"
      ],
      "metadata": {
        "id": "BHhZ5mmPUY5H"
      }
    },
    {
      "cell_type": "markdown",
      "source": [
        "To extract text from an image of a car number plate, you can use Optical Character Recognition (OCR) technology. The `pytesseract` library can be used in Python for OCR. Here's how you can create a Jupyter Notebook program to achieve this:"
      ],
      "metadata": {
        "id": "Sucpag0UUbT1"
      }
    },
    {
      "cell_type": "markdown",
      "source": [
        "1. Install the required libraries:\n",
        "   Install the `pytesseract` library using the following command:"
      ],
      "metadata": {
        "id": "hZdMnHADUdg1"
      }
    },
    {
      "cell_type": "code",
      "source": [
        "pip install pytesseract"
      ],
      "metadata": {
        "id": "jI4KWYsDUgE1"
      },
      "execution_count": null,
      "outputs": []
    },
    {
      "cell_type": "markdown",
      "source": [
        "2. Import necessary modules:\n",
        "   In your Jupyter Notebook cell, import the required modules:"
      ],
      "metadata": {
        "id": "Go0hhC2OUi6t"
      }
    },
    {
      "cell_type": "code",
      "source": [
        "import cv2\n",
        "import pytesseract\n",
        "from PIL import Image"
      ],
      "metadata": {
        "id": "J991Cx8qUlpL"
      },
      "execution_count": null,
      "outputs": []
    },
    {
      "cell_type": "markdown",
      "source": [
        "3. Load and preprocess the image:"
      ],
      "metadata": {
        "id": "3pwqYOVXUoJ-"
      }
    },
    {
      "cell_type": "code",
      "source": [
        "# Load the image\n",
        "image_path = \"path_to_your_image.jpg\"  # Replace with the actual image path\n",
        "image = cv2.imread(image_path)\n",
        "\n",
        "# Convert to grayscale\n",
        "gray_image = cv2.cvtColor(image, cv2.COLOR_BGR2GRAY)"
      ],
      "metadata": {
        "id": "lByOkvivUqSP"
      },
      "execution_count": null,
      "outputs": []
    },
    {
      "cell_type": "markdown",
      "source": [
        "4. Perform OCR to extract text:"
      ],
      "metadata": {
        "id": "kbGlfZVLUtKc"
      }
    },
    {
      "cell_type": "code",
      "source": [
        "# Use pytesseract to perform OCR on the grayscale image\n",
        "text = pytesseract.image_to_string(gray_image)"
      ],
      "metadata": {
        "id": "MAby0bVaUvdd"
      },
      "execution_count": null,
      "outputs": []
    },
    {
      "cell_type": "markdown",
      "source": [
        "5. Display the extracted text:"
      ],
      "metadata": {
        "id": "lmRaPCEoUx2U"
      }
    },
    {
      "cell_type": "code",
      "source": [
        "print(\"Extracted text from the image:\")\n",
        "print(text)"
      ],
      "metadata": {
        "id": "d3XwYEJIU0hH"
      },
      "execution_count": null,
      "outputs": []
    },
    {
      "cell_type": "markdown",
      "source": [
        "Putting it all together, here's the complete code snippet:"
      ],
      "metadata": {
        "id": "ScpeRHGhU2w8"
      }
    },
    {
      "cell_type": "code",
      "source": [
        "import cv2\n",
        "import pytesseract\n",
        "from PIL import Image\n",
        "\n",
        "# Load the image\n",
        "image_path = \"path_to_your_image.jpg\"  # Replace with the actual image path\n",
        "image = cv2.imread(image_path)\n",
        "\n",
        "# Convert to grayscale\n",
        "gray_image = cv2.cvtColor(image, cv2.COLOR_BGR2GRAY)\n",
        "\n",
        "# Use pytesseract to perform OCR on the grayscale image\n",
        "text = pytesseract.image_to_string(gray_image)\n",
        "\n",
        "# Display the extracted text\n",
        "print(\"Extracted text from the image:\")\n",
        "print(text)"
      ],
      "metadata": {
        "id": "IxuIGOzxU5nV"
      },
      "execution_count": null,
      "outputs": []
    },
    {
      "cell_type": "markdown",
      "source": [
        "Just copy and paste this code into a Jupyter Notebook cell, replace `\"path_to_your_image.jpg\"` with the actual path to your image file, and run the cell. The extracted text from the car number plate in the image will be displayed. Keep in mind that OCR accuracy can vary depending on the quality of the image, the font used, and other factors."
      ],
      "metadata": {
        "id": "rj45uWWmU82W"
      }
    }
  ]
}