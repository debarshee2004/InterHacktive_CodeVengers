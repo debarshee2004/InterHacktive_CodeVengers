{
  "nbformat": 4,
  "nbformat_minor": 0,
  "metadata": {
    "colab": {
      "provenance": []
    },
    "kernelspec": {
      "name": "python3",
      "display_name": "Python 3"
    },
    "language_info": {
      "name": "python"
    }
  },
  "cells": [
    {
      "cell_type": "markdown",
      "source": [
        "# CodeVengers - Vehicle detection and Alerting System"
      ],
      "metadata": {
        "id": "tWAjjd9QR-V3"
      }
    },
    {
      "cell_type": "markdown",
      "source": [
        "## Overview\n",
        "\n",
        "This is a software based for ParkEase's System in which we get input from an **IP Based Camera and Motion Sensor** then sends the picture to a **Car Number Plate Recognition Model** created by machine learning using **OpenCV and EaseORC**. When we have the car ID we check it with the regestration data and confirm its validity. It anything goes wrong the program will send an ALERT to the admin of the parking.\n",
        "\n",
        "---"
      ],
      "metadata": {
        "id": "CvRUx4V6SPwX"
      }
    },
    {
      "cell_type": "markdown",
      "source": [
        "## We Start with checking the version of CUDA present in our system."
      ],
      "metadata": {
        "id": "jjYmx7lzUFs-"
      }
    },
    {
      "cell_type": "code",
      "source": [
        "!nvcc --version"
      ],
      "metadata": {
        "colab": {
          "base_uri": "https://localhost:8080/"
        },
        "id": "xK75q0vrUPCm",
        "outputId": "92ce2d35-bc53-4d7a-f27a-985e7393b94a"
      },
      "execution_count": null,
      "outputs": [
        {
          "output_type": "stream",
          "name": "stdout",
          "text": [
            "nvcc: NVIDIA (R) Cuda compiler driver\n",
            "Copyright (c) 2005-2022 NVIDIA Corporation\n",
            "Built on Wed_Sep_21_10:33:58_PDT_2022\n",
            "Cuda compilation tools, release 11.8, V11.8.89\n",
            "Build cuda_11.8.r11.8/compiler.31833905_0\n"
          ]
        }
      ]
    },
    {
      "cell_type": "markdown",
      "source": [
        "**Step 1: Setup** <br/>\n",
        "Import the required libraries:"
      ],
      "metadata": {
        "id": "rnugBToNnKfx"
      }
    },
    {
      "cell_type": "markdown",
      "source": [
        "1. `import cv2`: This imports the OpenCV library, which is used for computer vision tasks like image and video manipulation, object detection, and image processing.\n",
        "\n",
        "2. `import numpy as np`: This imports the NumPy library and gives it the alias 'np'. NumPy is used for numerical computations and provides support for arrays and matrices, which are fundamental data structures in scientific computing.\n",
        "\n",
        "3. `import pandas as pd`: This imports the Pandas library and gives it the alias 'pd'. Pandas is used for data manipulation and analysis. It provides data structures like DataFrames that are useful for handling and analyzing structured data.\n",
        "\n",
        "4. `import datetime`: This imports the built-in `datetime` module, which provides classes for working with dates and times. It's used to handle timestamps and dates in the program.\n",
        "\n",
        "5. `import time`: This imports the built-in `time` module, which provides various time-related functions. It's often used for introducing delays or managing time intervals in programs.\n",
        "\n",
        "6. `import easyocr`: This imports the EasyOCR library, which is an optical character recognition (OCR) tool. It's used for recognizing text in images, such as license plate numbers."
      ],
      "metadata": {
        "id": "xAsdgQEupzlQ"
      }
    },
    {
      "cell_type": "code",
      "source": [
        "import cv2\n",
        "import numpy as np\n",
        "import pandas as pd\n",
        "import datetime\n",
        "import time\n",
        "import easyocr"
      ],
      "metadata": {
        "id": "VkbfSdegnSVR"
      },
      "execution_count": null,
      "outputs": []
    },
    {
      "cell_type": "markdown",
      "source": [
        "These import statements bring in the necessary libraries that you'll be using throughout your program to achieve tasks like image processing, working with data, recognizing license plates, and managing time. Once you have these libraries imported, you can start implementing the logic for your program based on the explanations provided in the previous responses."
      ],
      "metadata": {
        "id": "s8-cPgJRqIRc"
      }
    },
    {
      "cell_type": "markdown",
      "source": [
        "**Step 2: Load Pre-trained License Plate Recognition Model** <br/>\n",
        "Load the EasyOCR reader:"
      ],
      "metadata": {
        "id": "-MKBaWvTnVBw"
      }
    },
    {
      "cell_type": "code",
      "source": [
        "reader = easyocr.Reader(['en'])"
      ],
      "metadata": {
        "id": "rwp0APbwnfkI"
      },
      "execution_count": null,
      "outputs": []
    },
    {
      "cell_type": "markdown",
      "source": [
        "The line of code `reader = easyocr.Reader(['en'])` is initializing an instance of the `Reader` class from the EasyOCR library. Let's break down what this line of code does:\n",
        "\n",
        "1. `easyocr`: This is the module provided by the EasyOCR library that you imported earlier.\n",
        "\n",
        "2. `Reader`: This is a class within the EasyOCR library that represents an OCR (Optical Character Recognition) reader.\n",
        "\n",
        "3. `['en']`: This is an argument that's passed to the `Reader` class constructor. In this context, `['en']` specifies the languages you want the OCR reader to be capable of recognizing. Here, `'en'` stands for English. If you want to recognize text in multiple languages, you can provide a list of language codes, like `['en', 'de', 'fr']` for English, German, and French.\n",
        "\n",
        "So, the line of code creates an OCR reader instance that is capable of recognizing English text. You'll use this `reader` object to process images and extract text from them, which will be particularly useful for recognizing license plate numbers later in your program."
      ],
      "metadata": {
        "id": "ovTaJBlhqGhn"
      }
    },
    {
      "cell_type": "markdown",
      "source": [
        "**Step 3: Create a Dataset for Registered Cars**<br/>\n",
        "Create a pandas DataFrame to store registered car data:"
      ],
      "metadata": {
        "id": "AX6o19CKniYi"
      }
    },
    {
      "cell_type": "markdown",
      "source": [
        "This line of code is creating a Pandas DataFrame named `registered_cars` using the provided data. Let's break down what's happening:\n",
        "\n",
        "```python\n",
        "data = {'CarID': ['CAR123', 'CAR456', 'CAR789'],\n",
        "        'NumberPlate': ['XYZ123', 'ABC456', 'DEF789']}\n",
        "```\n",
        "\n",
        "In this dictionary `data`, you have two keys, `'CarID'` and `'NumberPlate'`, each associated with a list of values. The lists under `'CarID'` and `'NumberPlate'` correspond to the car IDs and their respective number plates.\n",
        "\n",
        "Now, let's move on to the next part:\n",
        "\n",
        "```python\n",
        "registered_cars = pd.DataFrame(data)\n",
        "```\n",
        "\n",
        "1. `pd.DataFrame(data)`: This creates a Pandas DataFrame using the `data` dictionary you defined earlier. The DataFrame will have columns named `'CarID'` and `'NumberPlate'`, and the corresponding values from the lists in the `data` dictionary will populate the rows of these columns.\n",
        "\n",
        "2. `registered_cars`: This assigns the created DataFrame to the variable named `registered_cars`. You can use this variable to interact with the DataFrame, perform operations, and access the data within it."
      ],
      "metadata": {
        "id": "BeQbqrBSqgD4"
      }
    },
    {
      "cell_type": "code",
      "source": [
        "data = {'CarID': ['CAR123', 'CAR456', 'CAR789'],\n",
        "        'NumberPlate': ['XYZ123', 'ABC456', 'DEF789']}\n",
        "registered_cars = pd.DataFrame(data)"
      ],
      "metadata": {
        "id": "4Qv6Tqs4ntm4"
      },
      "execution_count": null,
      "outputs": []
    },
    {
      "cell_type": "markdown",
      "source": [
        "In summary, the line of code is creating a DataFrame named `registered_cars` with two columns, `'CarID'` and `'NumberPlate'`, and populating it with the provided car IDs and number plates. This DataFrame will be used later in your program to compare the detected license plate numbers with the registered ones."
      ],
      "metadata": {
        "id": "Z671Sud6qiR_"
      }
    },
    {
      "cell_type": "markdown",
      "source": [
        "**Step 4: Simulate Motion Sensor and IP Camera Input (Assuming the Trigger Function)**<br/>\n",
        "1. Simulate motion detection:"
      ],
      "metadata": {
        "id": "taOrhv_InxRB"
      }
    },
    {
      "cell_type": "code",
      "source": [
        "def motion_detected():\n",
        "    # Simulate motion detection logic here\n",
        "    return True  # Return True if motion is detected"
      ],
      "metadata": {
        "id": "iTOPPfmEn5xS"
      },
      "execution_count": null,
      "outputs": []
    },
    {
      "cell_type": "markdown",
      "source": [
        "This line of code returns `True` if motion is detected according to the logic you've implemented (which is currently simulated). If your motion detection logic determines that motion has been detected, the function will return `True`. If no motion is detected, you can modify this line to return `False`."
      ],
      "metadata": {
        "id": "0gK5DlWt3qPb"
      }
    },
    {
      "cell_type": "markdown",
      "source": [
        "2. Simulate capturing an image from the IP camera:"
      ],
      "metadata": {
        "id": "17X37xean--g"
      }
    },
    {
      "cell_type": "code",
      "source": [
        "def capture_image():\n",
        "    # Simulate image capture logic here\n",
        "    image = cv2.imread('path_to_captured_image.jpg')\n",
        "    return image"
      ],
      "metadata": {
        "id": "Kx2UVI8KoB-p"
      },
      "execution_count": null,
      "outputs": []
    },
    {
      "cell_type": "markdown",
      "source": [
        "```python\n",
        "image = cv2.imread('path_to_captured_image.jpg')\n",
        "```\n",
        "\n",
        "This line of code simulates capturing an image by reading an image file from the specified path. `'path_to_captured_image.jpg'` should be replaced with the actual path to the image you want to use for simulation. However, please note that this is just a simulation and doesn't capture a real-time image from the camera.\n",
        "\n",
        "```python\n",
        "return image\n",
        "```\n",
        "\n",
        "This line of code returns the captured image. In a real implementation, you would capture an image using your camera, and this function would return the actual image data. For simulation purposes, it's returning the image read from the file as if it was captured.\n",
        "\n",
        "The `capture_image()` function serves as a placeholder for the actual image capture logic. It should be implemented with the appropriate code to capture an image from your IP-based camera. The function returns the captured image data, which will be used in your main program logic for further processing."
      ],
      "metadata": {
        "id": "5fyu6NRV3_k6"
      }
    },
    {
      "cell_type": "markdown",
      "source": [
        "**Step 5: Process Image and Check Car ID**\n",
        "1. Process the image when motion is detected:"
      ],
      "metadata": {
        "id": "jJu5u5KtoE1Q"
      }
    },
    {
      "cell_type": "code",
      "source": [
        "def process_image(image):\n",
        "    # Implement image processing steps here\n",
        "    # This could include resizing, grayscale conversion, etc.\n",
        "    return processed_image"
      ],
      "metadata": {
        "id": "ZcAYFZY1oIRg"
      },
      "execution_count": null,
      "outputs": []
    },
    {
      "cell_type": "markdown",
      "source": [
        "This line of code returns the processed image. In the context of your code, `processed_image` refers to the result of applying image processing operations to the input `image`. The term \"processed image\" here implies that you've applied certain modifications to the image based on your processing steps.\n",
        "\n",
        "In a real implementation, you would replace the comment with the actual image processing code. Here's a simplified example that converts the image to grayscale:\n",
        "\n",
        "```python\n",
        "def process_image(image):\n",
        "    processed_image = cv2.cvtColor(image, cv2.COLOR_BGR2GRAY)\n",
        "    return processed_image\n",
        "```\n",
        "\n",
        "In this example, the image is converted to grayscale using the OpenCV function `cv2.cvtColor()`.\n",
        "\n",
        "The `process_image(image)` function is responsible for applying image processing steps to the captured image. You'll implement the desired image transformations or adjustments within this function. The processed image will be used for further analysis, such as license plate recognition."
      ],
      "metadata": {
        "id": "wX1YOgWW4SoY"
      }
    },
    {
      "cell_type": "markdown",
      "source": [
        "2. Extract license plate text using EasyOCR:"
      ],
      "metadata": {
        "id": "DIAqctexoUyP"
      }
    },
    {
      "cell_type": "code",
      "source": [
        "def extract_license_plate_text(image):\n",
        "    results = reader.readtext(image)\n",
        "    license_plate_text = None\n",
        "    for (bbox, text, prob) in results:\n",
        "        if 'license' in text.lower():\n",
        "            license_plate_text = text\n",
        "            break\n",
        "    return license_plate_text"
      ],
      "metadata": {
        "id": "St5gPKwFoXT5"
      },
      "execution_count": null,
      "outputs": []
    },
    {
      "cell_type": "markdown",
      "source": [
        "This line of code uses the `reader` object (which is an instance of the EasyOCR `Reader` class) to perform text recognition on the input `image`. The `readtext()` function takes the image as input and returns a list of recognition results. Each result is a tuple containing information about the detected text, its bounding box (`bbox`), and the confidence probability (`prob`).\n",
        "\n",
        "```python\n",
        "license_plate_text = None\n",
        "for (bbox, text, prob) in results:\n",
        "    if 'license' in text.lower():\n",
        "        license_plate_text = text\n",
        "        break\n",
        "```\n",
        "\n",
        "This part of the code iterates through the list of recognition results (`results`). For each result, it checks if the lowercase version of the detected text contains the word \"license\". This check is performed to identify the recognition result that corresponds to a license plate, as license plates often have the word \"license\" on them. If such a recognition result is found, the `license_plate_text` variable is assigned the value of the detected text, effectively extracting the license plate number.\n",
        "\n",
        "The loop includes a `break` statement, which stops the loop as soon as a license plate text is found. This is because we usually expect license plate text to be present only once in the image.\n",
        "\n",
        "```python\n",
        "return license_plate_text\n",
        "```\n",
        "\n",
        "This line of code returns the extracted license plate text. If a license plate is detected in the image, this function will return the license plate text. If no license plate is detected, the function will return `None`.\n",
        "\n",
        "The `extract_license_plate_text(image)` function uses the EasyOCR library to perform text recognition on the input image and extracts the license plate text from the recognition results. It's important to note that the effectiveness of this function depends on the quality of the image, the license plate's appearance, and the accuracy of the OCR model."
      ],
      "metadata": {
        "id": "YtrL__dm4tak"
      }
    },
    {
      "cell_type": "markdown",
      "source": [
        "3. Get car ID from the license plate text:"
      ],
      "metadata": {
        "id": "wnneLTAWocYJ"
      }
    },
    {
      "cell_type": "code",
      "source": [
        "def get_car_id(license_plate_text):\n",
        "    # Look up car ID from the registered_cars DataFrame\n",
        "    car_id = registered_cars[registered_cars['NumberPlate'] == license_plate_text]['CarID'].values\n",
        "    return car_id[0] if len(car_id) > 0 else None"
      ],
      "metadata": {
        "id": "uKZSJrpbofjo"
      },
      "execution_count": null,
      "outputs": []
    },
    {
      "cell_type": "markdown",
      "source": [
        "This line of code performs a lookup in the `registered_cars` DataFrame to find the car ID associated with the provided `license_plate_text`. It does so by applying a boolean mask to the DataFrame where it checks if the values in the `'NumberPlate'` column match the provided `license_plate_text`. The result is a filtered DataFrame containing rows where the license plate matches.\n",
        "\n",
        "The `['CarID'].values` part then selects the values from the `'CarID'` column of the filtered DataFrame. This will result in an array of car IDs that correspond to the given license plate text.\n",
        "\n",
        "```python\n",
        "return car_id[0] if len(car_id) > 0 else None\n",
        "```\n",
        "\n",
        "This line of code returns the car ID extracted from the DataFrame if it exists, or `None` if no matching car ID is found.\n",
        "\n",
        "- `car_id[0]`: This accesses the first (and presumably only) element in the `car_id` array. If there's a match in the DataFrame, this will be the associated car ID.\n",
        "\n",
        "- `if len(car_id) > 0 else None`: This is a conditional expression that checks if the length of the `car_id` array is greater than 0. If it is, the first car ID is returned. If not (meaning no match was found), the function returns `None`.\n",
        "\n",
        "The `get_car_id(license_plate_text)` function looks up and returns the car ID associated with a given license plate text from the `registered_cars` DataFrame. If there's a match, it returns the corresponding car ID; otherwise, it returns `None`. This function is used to compare the detected license plate with registered car data."
      ],
      "metadata": {
        "id": "W3SbsMD-4_WR"
      }
    },
    {
      "cell_type": "markdown",
      "source": [
        "**Step 6: Main Program Logic**<br/>\n",
        "Combine all steps in the main program loop:\n"
      ],
      "metadata": {
        "id": "1BQrHcWgojTH"
      }
    },
    {
      "cell_type": "code",
      "source": [
        "while True:\n",
        "    if motion_detected():\n",
        "        image = capture_image()\n",
        "        processed_image = process_image(image)\n",
        "        license_plate_text = extract_license_plate_text(processed_image)\n",
        "\n",
        "        if license_plate_text:\n",
        "            car_id = get_car_id(license_plate_text)\n",
        "            if car_id:\n",
        "                print(f\"Car ID: {car_id}\")\n",
        "                current_time = datetime.datetime.now()\n",
        "                print(f\"Date and Time: {current_time}\")\n",
        "                if car_id in registered_cars['CarID'].values:\n",
        "                    print(\"Car is registered. Starting countdown.\")\n",
        "                    # Start countdown logic here\n",
        "                else:\n",
        "                    print(\"Unregistered car detected. Sending alert.\")\n",
        "                    # Send alert logic here\n",
        "            else:\n",
        "                print(\"Car ID not found.\")\n",
        "        else:\n",
        "            print(\"License plate not detected.\")\n",
        "\n",
        "    time.sleep(1)  # Delay between loop iterations"
      ],
      "metadata": {
        "id": "gUk13Z5qomKh"
      },
      "execution_count": null,
      "outputs": []
    },
    {
      "cell_type": "markdown",
      "source": [
        "Once motion is detected, it captures an image, processes it to extract a license plate, and then performs various actions based on the results. I'll explain each part of the code in depth:\n",
        "\n",
        "1. `while True:`: This is an infinite loop that keeps running as long as the condition `True` holds. This structure ensures that the code inside the loop will be executed repeatedly.\n",
        "\n",
        "2. `if motion_detected():`: This is a conditional statement that checks whether motion has been detected. The `motion_detected()` function is expected to be defined elsewhere in the code and would return `True` if motion is currently detected.\n",
        "\n",
        "3. Inside the `if` block:\n",
        "   - `image = capture_image()`: This line captures an image using a function called `capture_image()`. Presumably, this function interacts with some camera or image-capturing device and returns the captured image.\n",
        "   \n",
        "   - `processed_image = process_image(image)`: The captured image is then passed to the `process_image()` function, which is expected to perform some image processing operations on the input image and return a processed version.\n",
        "   \n",
        "   - `license_plate_text = extract_license_plate_text(processed_image)`: The processed image is passed to the `extract_license_plate_text()` function, which is assumed to extract the text from the license plate present in the processed image. The extracted license plate text is stored in the variable `license_plate_text`.\n",
        "   \n",
        "   - Nested inside this conditional, there's another `if` block:\n",
        "     - `if license_plate_text:`: This checks whether `license_plate_text` contains any text (i.e., whether a license plate was successfully extracted from the processed image).\n",
        "       - Inside this `if` block, there's another series of nested checks:\n",
        "         - `car_id = get_car_id(license_plate_text)`: The `get_car_id()` function is called with the extracted license plate text as an argument. This function is expected to map the license plate text to a corresponding car ID and return it. The car ID is stored in the `car_id` variable.\n",
        "         - Another nested `if` statement checks whether a valid `car_id` was obtained:\n",
        "           - If a valid `car_id` is found, the code proceeds to print the car ID and the current date and time using `datetime.datetime.now()`.\n",
        "           - Then, it checks if the `car_id` exists in a collection of registered car IDs stored in the `registered_cars` variable. If the car is registered, it prints a message and presumably starts some kind of countdown logic.\n",
        "           - If the car is not registered, it prints a message indicating an unregistered car and presumably triggers an alert mechanism.\n",
        "         - If `car_id` is not found, it prints a message indicating that the car ID was not found based on the extracted license plate text.\n",
        "       - If no license plate text was detected in the image, it prints a message stating that the license plate was not detected.\n",
        "\n",
        "4. `time.sleep(1)`: After each iteration of the loop, the script introduces a 1-second delay using `time.sleep(1)`. This is done to prevent the loop from executing too rapidly, which could overload system resources or slow down other operations.\n",
        "\n",
        "The code seems to be a basic implementation of a system that continuously monitors for motion, captures and processes images, extracts license plate text, identifies registered cars, and performs appropriate actions based on the results. It's worth noting that several functions (`motion_detected()`, `capture_image()`, `process_image()`, `extract_license_plate_text()`, and `get_car_id()`) are assumed to be defined elsewhere in the code or in external modules. Additionally, the details of the \"countdown logic\" and \"send alert logic\" are not provided and would need to be implemented separately."
      ],
      "metadata": {
        "id": "8ulKkzHa888H"
      }
    },
    {
      "cell_type": "markdown",
      "source": [
        "## The Full Program:"
      ],
      "metadata": {
        "id": "qhWG7ArvpEH5"
      }
    },
    {
      "cell_type": "code",
      "source": [
        "import cv2\n",
        "import numpy as np\n",
        "import pandas as pd\n",
        "import datetime\n",
        "import time\n",
        "import easyocr\n",
        "\n",
        "reader = easyocr.Reader(['en'])\n",
        "\n",
        "data = {'CarID': ['CAR123', 'CAR456', 'CAR789'],\n",
        "        'NumberPlate': ['XYZ123', 'ABC456', 'DEF789']}\n",
        "registered_cars = pd.DataFrame(data)\n",
        "\n",
        "def motion_detected():\n",
        "    # Simulate motion detection logic here\n",
        "    return True\n",
        "\n",
        "def capture_image():\n",
        "    # Simulate image capture logic here\n",
        "    image = cv2.imread('path_to_captured_image.jpg')\n",
        "    return image\n",
        "\n",
        "def process_image(image):\n",
        "    # Implement image processing steps here\n",
        "    # This could include resizing, grayscale conversion, etc.\n",
        "    return processed_image\n",
        "\n",
        "def extract_license_plate_text(image):\n",
        "    results = reader.readtext(image)\n",
        "    license_plate_text = None\n",
        "    for (bbox, text, prob) in results:\n",
        "        if 'license' in text.lower():\n",
        "            license_plate_text = text\n",
        "            break\n",
        "    return license_plate_text\n",
        "\n",
        "def get_car_id(license_plate_text):\n",
        "    car_id = registered_cars[registered_cars['NumberPlate'] == license_plate_text]['CarID'].values\n",
        "    return car_id[0] if len(car_id) > 0 else None\n",
        "\n",
        "while True:\n",
        "    if motion_detected():\n",
        "        image = capture_image()\n",
        "        processed_image = process_image(image)\n",
        "        license_plate_text = extract_license_plate_text(processed_image)\n",
        "\n",
        "        if license_plate_text:\n",
        "            car_id = get_car_id(license_plate_text)\n",
        "            if car_id:\n",
        "                print(f\"Car ID: {car_id}\")\n",
        "                current_time = datetime.datetime.now()\n",
        "                print(f\"Date and Time: {current_time}\")\n",
        "                if car_id in registered_cars['CarID'].values:\n",
        "                    print(\"Car is registered. Starting countdown.\")\n",
        "                    # Start countdown logic here\n",
        "                else:\n",
        "                    print(\"Unregistered car detected. Sending alert.\")\n",
        "                    # Send alert logic here\n",
        "            else:\n",
        "                print(\"Car ID not found.\")\n",
        "        else:\n",
        "            print(\"License plate not detected.\")\n",
        "\n",
        "    time.sleep(1)  # Delay between loop iterations\n"
      ],
      "metadata": {
        "id": "_sDlR0AQpcUQ"
      },
      "execution_count": null,
      "outputs": []
    }
  ]
}