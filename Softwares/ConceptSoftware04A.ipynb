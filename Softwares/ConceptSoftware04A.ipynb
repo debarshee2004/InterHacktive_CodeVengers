{
  "nbformat": 4,
  "nbformat_minor": 0,
  "metadata": {
    "colab": {
      "provenance": []
    },
    "kernelspec": {
      "name": "python3",
      "display_name": "Python 3"
    },
    "language_info": {
      "name": "python"
    }
  },
  "cells": [
    {
      "cell_type": "markdown",
      "source": [
        "## Software 04 Upgraded version of Software 04"
      ],
      "metadata": {
        "id": "35Fgb8_AYp5O"
      }
    },
    {
      "cell_type": "markdown",
      "source": [
        "Sure, here's an example program you can use in a Jupyter Notebook to achieve the described functionality. This example uses the OpenALPR library for license plate recognition and assumes that you have the necessary libraries installed in your environment."
      ],
      "metadata": {
        "id": "Mf8L9q93YsxE"
      }
    },
    {
      "cell_type": "code",
      "source": [
        "import cv2\n",
        "import time\n",
        "import openalpr\n",
        "\n",
        "# Initialize the ALPR library\n",
        "alpr = openalpr.Alpr(\"us\", \"/etc/openalpr/openalpr.conf\", \"/usr/share/openalpr/runtime_data\")\n",
        "\n",
        "# Simulate input from the camera and motion sensor\n",
        "def simulate_camera_capture():\n",
        "    # In a real scenario, you would capture an image from the camera and detect motion.\n",
        "    # For the purpose of this example, we'll use a sample image and assume motion is detected.\n",
        "    image = cv2.imread(\"sample_car_image.jpg\")\n",
        "    motion_detected = True\n",
        "    return image, motion_detected\n",
        "\n",
        "# Function to recognize the license plate\n",
        "def recognize_license_plate(image):\n",
        "    results = alpr.recognize_ndarray(image)\n",
        "    if results['results']:\n",
        "        plate = results['results'][0]['plate']\n",
        "        return plate\n",
        "    return None\n",
        "\n",
        "# Simulate checking against registered car IDs\n",
        "def is_registered_car(plate):\n",
        "    # Replace with your logic to check if the car with this plate is registered\n",
        "    registered_cars = [\"ABC123\", \"XYZ789\"]  # Example list of registered car plates\n",
        "    return plate in registered_cars\n",
        "\n",
        "# Simulate sending an alert\n",
        "def send_alert():\n",
        "    print(\"ALERT: Unregistered car detected!\")\n",
        "\n",
        "# Simulate starting countdown\n",
        "def start_countdown():\n",
        "    for remaining in range(10, 0, -1):\n",
        "        print(f\"Countdown: {remaining} seconds\")\n",
        "        time.sleep(1)\n",
        "    print(\"Countdown complete\")\n",
        "\n",
        "# Main function\n",
        "def main():\n",
        "    image, motion_detected = simulate_camera_capture()\n",
        "\n",
        "    if motion_detected:\n",
        "        plate = recognize_license_plate(image)\n",
        "\n",
        "        if plate:\n",
        "            registered = is_registered_car(plate)\n",
        "            if registered:\n",
        "                start_countdown()\n",
        "            else:\n",
        "                send_alert()\n",
        "        else:\n",
        "            print(\"No license plate detected in the image\")\n",
        "\n",
        "# Run the main function\n",
        "if __name__ == \"__main__\":\n",
        "    main()\n",
        "\n",
        "# Cleanup the ALPR resources\n",
        "alpr.unload()"
      ],
      "metadata": {
        "id": "4vinad6XZVzV"
      },
      "execution_count": null,
      "outputs": []
    },
    {
      "cell_type": "markdown",
      "source": [
        "Please note that this is a simplified example and you'll need to adapt it to your specific hardware and setup. Additionally, you'll need to install the required libraries (`opencv-python`, `pyopenalpr`) and have the necessary configuration files and models for OpenALPR. The image used in the example should be replaced with the actual images captured by your IP camera."
      ],
      "metadata": {
        "id": "1p6wdi1TZiSO"
      }
    }
  ]
}